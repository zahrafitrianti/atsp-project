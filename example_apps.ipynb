{
 "cells": [
  {
   "cell_type": "code",
   "execution_count": 2,
   "metadata": {},
   "outputs": [],
   "source": [
    "import pandas as pd\n",
    "import numpy as np\n",
    "import matplotlib.pyplot as plt\n",
    "plt.rcParams.update({'font.size': 16})"
   ]
  },
  {
   "cell_type": "markdown",
   "metadata": {},
   "source": [
    "### Read csv file"
   ]
  },
  {
   "cell_type": "code",
   "execution_count": 10,
   "metadata": {},
   "outputs": [],
   "source": [
    "df = pd.read_csv('./result/final_scores_normalized.csv')"
   ]
  },
  {
   "cell_type": "markdown",
   "metadata": {},
   "source": [
    "### Get 5 apps which have the highest scores"
   ]
  },
  {
   "cell_type": "code",
   "execution_count": 27,
   "metadata": {},
   "outputs": [
    {
     "data": {
      "text/html": [
       "<div>\n",
       "<style scoped>\n",
       "    .dataframe tbody tr th:only-of-type {\n",
       "        vertical-align: middle;\n",
       "    }\n",
       "\n",
       "    .dataframe tbody tr th {\n",
       "        vertical-align: top;\n",
       "    }\n",
       "\n",
       "    .dataframe thead th {\n",
       "        text-align: right;\n",
       "    }\n",
       "</style>\n",
       "<table border=\"1\" class=\"dataframe\">\n",
       "  <thead>\n",
       "    <tr style=\"text-align: right;\">\n",
       "      <th></th>\n",
       "      <th>app_name</th>\n",
       "      <th>combined score</th>\n",
       "      <th>combined features</th>\n",
       "    </tr>\n",
       "  </thead>\n",
       "  <tbody>\n",
       "    <tr>\n",
       "      <th>177</th>\n",
       "      <td>afzkl.development.ShoppingList.apk</td>\n",
       "      <td>0.391619</td>\n",
       "      <td>('Telephony Identifiers Leakage, Device Settin...</td>\n",
       "    </tr>\n",
       "    <tr>\n",
       "      <th>152</th>\n",
       "      <td>aboutdharma.com.apk</td>\n",
       "      <td>0.386440</td>\n",
       "      <td>('Telephony Identifiers Leakage, Device Settin...</td>\n",
       "    </tr>\n",
       "    <tr>\n",
       "      <th>134</th>\n",
       "      <td>air.com.absolutist.match3puzzle.bubblezbubbled...</td>\n",
       "      <td>0.386356</td>\n",
       "      <td>('Telephony Identifiers Leakage, Device Settin...</td>\n",
       "    </tr>\n",
       "    <tr>\n",
       "      <th>109</th>\n",
       "      <td>abcom.com.timeconverter.apk</td>\n",
       "      <td>0.386356</td>\n",
       "      <td>('Telephony Identifiers Leakage, Device Settin...</td>\n",
       "    </tr>\n",
       "    <tr>\n",
       "      <th>82</th>\n",
       "      <td>ahmad.appiques.mtdm.apk</td>\n",
       "      <td>0.381037</td>\n",
       "      <td>('Telephony Identifiers Leakage, Device Settin...</td>\n",
       "    </tr>\n",
       "  </tbody>\n",
       "</table>\n",
       "</div>"
      ],
      "text/plain": [
       "                                              app_name  combined score  \\\n",
       "177                 afzkl.development.ShoppingList.apk        0.391619   \n",
       "152                                aboutdharma.com.apk        0.386440   \n",
       "134  air.com.absolutist.match3puzzle.bubblezbubbled...        0.386356   \n",
       "109                        abcom.com.timeconverter.apk        0.386356   \n",
       "82                             ahmad.appiques.mtdm.apk        0.381037   \n",
       "\n",
       "                                     combined features  \n",
       "177  ('Telephony Identifiers Leakage, Device Settin...  \n",
       "152  ('Telephony Identifiers Leakage, Device Settin...  \n",
       "134  ('Telephony Identifiers Leakage, Device Settin...  \n",
       "109  ('Telephony Identifiers Leakage, Device Settin...  \n",
       "82   ('Telephony Identifiers Leakage, Device Settin...  "
      ]
     },
     "metadata": {},
     "output_type": "display_data"
    }
   ],
   "source": [
    "top5 = df.sort_values('combined score', ascending=False).head(5)\n",
    "display(top5)"
   ]
  },
  {
   "cell_type": "markdown",
   "metadata": {},
   "source": [
    "### Get 5 apps which have the lowest scores"
   ]
  },
  {
   "cell_type": "code",
   "execution_count": 28,
   "metadata": {},
   "outputs": [
    {
     "data": {
      "text/html": [
       "<div>\n",
       "<style scoped>\n",
       "    .dataframe tbody tr th:only-of-type {\n",
       "        vertical-align: middle;\n",
       "    }\n",
       "\n",
       "    .dataframe tbody tr th {\n",
       "        vertical-align: top;\n",
       "    }\n",
       "\n",
       "    .dataframe thead th {\n",
       "        text-align: right;\n",
       "    }\n",
       "</style>\n",
       "<table border=\"1\" class=\"dataframe\">\n",
       "  <thead>\n",
       "    <tr style=\"text-align: right;\">\n",
       "      <th></th>\n",
       "      <th>app_name</th>\n",
       "      <th>combined score</th>\n",
       "      <th>combined features</th>\n",
       "    </tr>\n",
       "  </thead>\n",
       "  <tbody>\n",
       "    <tr>\n",
       "      <th>72</th>\n",
       "      <td>air.CarLoanCalculation.apk</td>\n",
       "      <td>0.285714</td>\n",
       "      <td>(nan, \"{'critical': 1, 'warning': 1, 'notice':...</td>\n",
       "    </tr>\n",
       "    <tr>\n",
       "      <th>27</th>\n",
       "      <td>ac.robinson.mediatablet.apk</td>\n",
       "      <td>0.280451</td>\n",
       "      <td>('Device Settings Harvesting', \"{'critical': 0...</td>\n",
       "    </tr>\n",
       "    <tr>\n",
       "      <th>15</th>\n",
       "      <td>air.AIRMapViewer.apk</td>\n",
       "      <td>0.275132</td>\n",
       "      <td>(nan, \"{'critical': 0, 'warning': 0, 'notice':...</td>\n",
       "    </tr>\n",
       "    <tr>\n",
       "      <th>34</th>\n",
       "      <td>air.br.com.iasoft.cc2002.tablet.A2014.apk</td>\n",
       "      <td>0.275132</td>\n",
       "      <td>(nan, \"{'critical': 0, 'warning': 1, 'notice':...</td>\n",
       "    </tr>\n",
       "    <tr>\n",
       "      <th>81</th>\n",
       "      <td>air.A43XLIII.apk</td>\n",
       "      <td>0.275132</td>\n",
       "      <td>(nan, \"{'critical': 0, 'warning': 1, 'notice':...</td>\n",
       "    </tr>\n",
       "  </tbody>\n",
       "</table>\n",
       "</div>"
      ],
      "text/plain": [
       "                                     app_name  combined score  \\\n",
       "72                 air.CarLoanCalculation.apk        0.285714   \n",
       "27                ac.robinson.mediatablet.apk        0.280451   \n",
       "15                       air.AIRMapViewer.apk        0.275132   \n",
       "34  air.br.com.iasoft.cc2002.tablet.A2014.apk        0.275132   \n",
       "81                           air.A43XLIII.apk        0.275132   \n",
       "\n",
       "                                    combined features  \n",
       "72  (nan, \"{'critical': 1, 'warning': 1, 'notice':...  \n",
       "27  ('Device Settings Harvesting', \"{'critical': 0...  \n",
       "15  (nan, \"{'critical': 0, 'warning': 0, 'notice':...  \n",
       "34  (nan, \"{'critical': 0, 'warning': 1, 'notice':...  \n",
       "81  (nan, \"{'critical': 0, 'warning': 1, 'notice':...  "
      ]
     },
     "metadata": {},
     "output_type": "display_data"
    }
   ],
   "source": [
    "lowest5 = df.sort_values('combined score', ascending=False).tail(5)\n",
    "display(lowest5)"
   ]
  },
  {
   "cell_type": "markdown",
   "metadata": {},
   "source": [
    "### Plot combined scores per all apps"
   ]
  },
  {
   "cell_type": "code",
   "execution_count": 11,
   "metadata": {},
   "outputs": [
    {
     "data": {
      "image/png": "[encoded data removed]",
      "text/plain": [
       "<Figure size 864x504 with 1 Axes>"
      ]
     },
     "metadata": {
      "needs_background": "light"
     },
     "output_type": "display_data"
    }
   ],
   "source": [
    "plt.figure(figsize=(12,7))\n",
    "plt.title('Combined scores per app')\n",
    "plt.bar(np.arange(0, df.shape[0]), df['combined score'])\n",
    "plt.xlabel('number of apk files')\n",
    "plt.ylabel('combined scores')\n",
    "plt.show()"
   ]
  },
  {
   "cell_type": "markdown",
   "metadata": {},
   "source": [
    "### Plot of top n apps"
   ]
  },
  {
   "cell_type": "code",
   "execution_count": 37,
   "metadata": {},
   "outputs": [
    {
     "data": {
      "image/png": "[encoded data removed]",
      "text/plain": [
       "<Figure size 576x360 with 1 Axes>"
      ]
     },
     "metadata": {
      "needs_background": "light"
     },
     "output_type": "display_data"
    }
   ],
   "source": [
    "n = 50\n",
    "dat = df.sort_values('combined score', ascending=False).head(n)\n",
    "plt.figure(figsize=(8,5))\n",
    "plt.title(f'Combined scores for top {n} app')\n",
    "plt.bar(np.arange(0, dat.shape[0]), dat['combined score'])\n",
    "plt.xlabel('number of apk files')\n",
    "plt.ylabel('combined scores')\n",
    "plt.show()"
   ]
  },
  {
   "cell_type": "markdown",
   "metadata": {},
   "source": [
    "### Plot of lowest n apps"
   ]
  },
  {
   "cell_type": "code",
   "execution_count": 40,
   "metadata": {},
   "outputs": [
    {
     "data": {
      "image/png": "[encoded data removed]",
      "text/plain": [
       "<Figure size 576x360 with 1 Axes>"
      ]
     },
     "metadata": {
      "needs_background": "light"
     },
     "output_type": "display_data"
    }
   ],
   "source": [
    "n = 50\n",
    "dat = df.sort_values('combined score', ascending=False).tail(50)\n",
    "plt.figure(figsize=(8,5))\n",
    "plt.title(f'Combined scores for lowest {n} app')\n",
    "plt.bar(np.arange(0, dat.shape[0]), dat['combined score'])\n",
    "plt.xlabel('number of apk files')\n",
    "plt.ylabel('combined scores')\n",
    "plt.show()"
   ]
  }
 ],
 "metadata": {
  "kernelspec": {
   "display_name": "Python 3",
   "language": "python",
   "name": "python3"
  },
  "language_info": {
   "codemirror_mode": {
    "name": "ipython",
    "version": 3
   },
   "file_extension": ".py",
   "mimetype": "text/x-python",
   "name": "python",
   "nbconvert_exporter": "python",
   "pygments_lexer": "ipython3",
   "version": "3.7.4"
  }
 },
 "nbformat": 4,
 "nbformat_minor": 2
}
